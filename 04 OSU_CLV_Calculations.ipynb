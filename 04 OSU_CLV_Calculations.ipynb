{
 "cells": [
  {
   "cell_type": "markdown",
   "metadata": {},
   "source": [
    "# Group Exercise CLV - Group 6\n",
    "## CLV Calculations\n"
   ]
  },
  {
   "cell_type": "markdown",
   "metadata": {},
   "source": [
    "#### Importing standard packages:"
   ]
  },
  {
   "cell_type": "code",
   "execution_count": null,
   "metadata": {},
   "outputs": [],
   "source": [
    "import numpy as np\n",
    "import pandas as pd\n",
    "import sklearn as sk\n",
    "import matplotlib.pyplot as plt"
   ]
  },
  {
   "cell_type": "markdown",
   "metadata": {},
   "source": [
    "## Reading in the original data, and joining with the churn and margin predicted values: (change path in below cell)"
   ]
  },
  {
   "cell_type": "code",
   "execution_count": null,
   "metadata": {},
   "outputs": [],
   "source": [
    "import pickle\n",
    "with open('combined_df.pkl', 'rb') as file:\n",
    "    combined_df = pickle.load(file)\n",
    "    \n",
    "churn_df = pd.read_csv('churn_scores.csv')\n",
    "margin_df = pd.read_csv('margin_scores.csv')\n",
    "\n",
    "combined_df = pd.merge(combined_df, churn_df, on='acct_ID', how='left')\n",
    "combined_df = pd.merge(combined_df, margin_df, on='acct_ID', how='left')\n",
    "\n",
    "# it should be noted that Python is case sensitive for variable names.  acct_id above would fail.\n",
    "\n",
    "combined_df.shape"
   ]
  },
  {
   "cell_type": "markdown",
   "metadata": {},
   "source": [
    "## Since our margin model had transformed the target variable, we need to untransform the predicted value,\n",
    "##     using the inverse of our transformation:"
   ]
  },
  {
   "cell_type": "code",
   "execution_count": null,
   "metadata": {},
   "outputs": [],
   "source": [
    "combined_df['P_margin_Y_pos_1']=10**combined_df['P_log_margin_Y_pos_1']-50000\n",
    "\n",
    "# Plotting predicted untransformed values vs actual untransformed values:\n",
    "\n",
    "plt.figure(figsize=(15,15))\n",
    "plt.scatter(combined_df['P_margin_Y_pos_1'], combined_df['margin_Y_pos_1'])\n",
    "plt.xlabel(\"margin\")\n",
    "plt.ylabel(\"predicted margin\")\n",
    "plt.title(\"actual v predicted\")\n",
    "# plt.xticks([])\n",
    "# plt.yticks([])\n",
    "print(\" \") \n",
    "plt.show()"
   ]
  },
  {
   "cell_type": "markdown",
   "metadata": {},
   "source": [
    "# It should be noted:  we are scoring our original data, used for modeling, only for the purposes of analysis.\n",
    "##  In a \"real world\" situation, we would most likely be scoring a full population for which we did not actually\n",
    "##  know the future churn or the future margin."
   ]
  },
  {
   "cell_type": "markdown",
   "metadata": {},
   "source": [
    "## We are using a simplified CLV formula, in which we:\n",
    "###    *  are predicting only annual numbers,\n",
    "###    *  are assuming that next year's annual prediction are the same values for the next 3 years,\n",
    "###    *  that our future value is adequately estimated using only 3 future years."
   ]
  },
  {
   "cell_type": "code",
   "execution_count": null,
   "metadata": {},
   "outputs": [],
   "source": [
    "annual_discount_rate = 0.10\n",
    "combined_df['CFV'] = (combined_df['P_margin_Y_pos_1']*((1-combined_df['P_churn_year_plus1_ind'])**1))/((1+annual_discount_rate)**1) + (combined_df['P_margin_Y_pos_1']*((1-combined_df['P_churn_year_plus1_ind'])**2))/((1+annual_discount_rate)**2) + (combined_df['P_margin_Y_pos_1']*((1-combined_df['P_churn_year_plus1_ind'])**3))/((1+annual_discount_rate)**3)\n",
    "plothist = combined_df['CFV'].plot.hist(title=\"Distribution of Customer Future Value\",bins=20, range=(-1000,8000),edgecolor='black')\n",
    "plt.show()\n",
    "combined_df.describe()"
   ]
  },
  {
   "cell_type": "markdown",
   "metadata": {},
   "source": [
    "## Establishing the quadrants for high/low churn and margin"
   ]
  },
  {
   "cell_type": "code",
   "execution_count": null,
   "metadata": {},
   "outputs": [],
   "source": [
    "print(\"mean churn: \",  np.mean(combined_df['P_churn_year_plus1_ind']))\n",
    "print(\"median margin: %d\" % (np.median(combined_df['P_margin_Y_pos_1'])))\n",
    "\n",
    "# initializing to values which should not occur after logic below.\n",
    "combined_df['retention_grp'] = '0X'\n",
    "combined_df['margin_grp'] = '0X'\n",
    "combined_df['quadrant_retention_margin'] = 'error_error'\n",
    "\n",
    "combined_df.loc[combined_df['P_churn_year_plus1_ind']<np.mean(combined_df['P_churn_year_plus1_ind']),'retention_grp']=\"2H\"\n",
    "combined_df.loc[combined_df['P_churn_year_plus1_ind']>=np.mean(combined_df['P_churn_year_plus1_ind']),'retention_grp']=\"1L\"\n",
    "\n",
    "combined_df.loc[(combined_df['P_margin_Y_pos_1']<np.median(combined_df['P_margin_Y_pos_1'])),'margin_grp']=\"1L\"\n",
    "combined_df.loc[(combined_df['P_margin_Y_pos_1']>=np.median(combined_df['P_margin_Y_pos_1'])),'margin_grp']=\"2H\"\n",
    "\n",
    "combined_df.loc[(combined_df['retention_grp'] == '1L') & (combined_df['margin_grp'] == '1L'),'quadrant_retention_margin'] = \"1L_1L\"\n",
    "combined_df.loc[(combined_df['retention_grp'] == '1L') & (combined_df['margin_grp'] == '2H'),'quadrant_retention_margin'] = \"1L_2H\"\n",
    "combined_df.loc[(combined_df['retention_grp'] == '2H') & (combined_df['margin_grp'] == '1L'),'quadrant_retention_margin'] = \"2H_1L\"\n",
    "combined_df.loc[(combined_df['retention_grp'] == '2H') & (combined_df['margin_grp'] == '2H'),'quadrant_retention_margin'] = \"2H_2H\""
   ]
  },
  {
   "cell_type": "markdown",
   "metadata": {},
   "source": [
    "## Output scored data and go to Tableau for more analysis... (change path in below cell)"
   ]
  },
  {
   "cell_type": "code",
   "execution_count": null,
   "metadata": {},
   "outputs": [],
   "source": [
    "combined_df.to_csv('CLV_scores.csv',index=False)"
   ]
  }
 ],
 "metadata": {
  "kernelspec": {
   "display_name": "Python 3 (ipykernel)",
   "language": "python",
   "name": "python3"
  },
  "language_info": {
   "codemirror_mode": {
    "name": "ipython",
    "version": 3
   },
   "file_extension": ".py",
   "mimetype": "text/x-python",
   "name": "python",
   "nbconvert_exporter": "python",
   "pygments_lexer": "ipython3",
   "version": "3.10.4"
  }
 },
 "nbformat": 4,
 "nbformat_minor": 4
}
